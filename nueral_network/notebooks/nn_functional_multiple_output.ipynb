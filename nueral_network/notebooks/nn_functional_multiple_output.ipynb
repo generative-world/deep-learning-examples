{
  "nbformat": 4,
  "nbformat_minor": 0,
  "metadata": {
    "colab": {
      "provenance": [],
      "authorship_tag": "ABX9TyOJBkXbfV+LT1WIYEZZrEi6",
      "include_colab_link": true
    },
    "kernelspec": {
      "name": "python3",
      "display_name": "Python 3"
    },
    "language_info": {
      "name": "python"
    }
  },
  "cells": [
    {
      "cell_type": "markdown",
      "metadata": {
        "id": "view-in-github",
        "colab_type": "text"
      },
      "source": [
        "<a href=\"https://colab.research.google.com/github/generative-world/deep-learning-examples/blob/master/nueral_network/notebooks/nn_functional_multiple_output.ipynb\" target=\"_parent\"><img src=\"https://colab.research.google.com/assets/colab-badge.svg\" alt=\"Open In Colab\"/></a>"
      ]
    },
    {
      "cell_type": "code",
      "execution_count": 23,
      "metadata": {
        "id": "P6Uh8Hx5Tuym"
      },
      "outputs": [],
      "source": [
        "# Import Required Libraries\n",
        "import pandas as pd\n",
        "import numpy as np\n",
        "from sklearn.datasets import load_iris\n",
        "from sklearn.model_selection import train_test_split\n",
        "from sklearn.preprocessing import StandardScaler\n",
        "from sklearn.metrics import accuracy_score\n",
        "from keras.models import Model\n",
        "from keras.layers  import Input, Dense\n",
        "from keras.utils import to_categorical\n",
        "import tensorflow as tf\n"
      ]
    },
    {
      "cell_type": "code",
      "source": [
        "# load and read data from file\n",
        "iris_data = load_iris()\n",
        "X = iris_data['data']\n",
        "y = iris_data['target']"
      ],
      "metadata": {
        "id": "z6l_sngGTvYR"
      },
      "execution_count": 24,
      "outputs": []
    },
    {
      "cell_type": "code",
      "source": [
        "y = to_categorical(y)"
      ],
      "metadata": {
        "id": "ROVKHenEDiPr"
      },
      "execution_count": 25,
      "outputs": []
    },
    {
      "cell_type": "code",
      "source": [
        "# Second Target column\n",
        "y_synthetic = np.random.rand(len(y), 1)"
      ],
      "metadata": {
        "id": "9If-SxROGqes"
      },
      "execution_count": 26,
      "outputs": []
    },
    {
      "cell_type": "code",
      "source": [
        "X_train, X_test, y_train, y_test, y_synthetic_train, y_synthetic_test = train_test_split(X, y,y_synthetic, test_size=0.25, random_state=42)\n",
        "sc = StandardScaler()\n",
        "X_train = sc.fit_transform(X_train)\n",
        "X_test = sc.transform(X_test)"
      ],
      "metadata": {
        "id": "EfuUtaESDkP_"
      },
      "execution_count": 27,
      "outputs": []
    },
    {
      "cell_type": "code",
      "source": [
        "inputs = Input(shape=(4,))\n",
        "l1 = Dense(8, activation='relu')(inputs)\n",
        "l2 = Dense(10, activation='relu')(l1)\n",
        "l3 = Dense(10, activation='relu')(l2)\n",
        "output_1 = Dense(3, activation='softmax', name='output_1')(l3)\n",
        "output_2 = Dense(1, activation='linear', name='output_2')(l3)\n",
        "\n",
        "model = Model(inputs=inputs, outputs=[output_1, output_2])\n",
        "model.compile(optimizer='sgd',\n",
        "              loss={'output_1':'categorical_crossentropy','output_2':'mse'},\n",
        "              metrics={'output_1':'accuracy','output_2':'mse'})"
      ],
      "metadata": {
        "id": "ZTjyXLrIDxP-"
      },
      "execution_count": 46,
      "outputs": []
    },
    {
      "cell_type": "code",
      "source": [
        "model.fit(X_train,{'output_1':y_train,'output_2':y_synthetic_train},epochs=20,batch_size=2)"
      ],
      "metadata": {
        "colab": {
          "base_uri": "https://localhost:8080/"
        },
        "id": "NIVub_dzJZfy",
        "outputId": "080afd8f-fc30-4c91-8215-6434e0fb566d"
      },
      "execution_count": 48,
      "outputs": [
        {
          "output_type": "stream",
          "name": "stdout",
          "text": [
            "Epoch 1/20\n",
            "\u001b[1m56/56\u001b[0m \u001b[32m━━━━━━━━━━━━━━━━━━━━\u001b[0m\u001b[37m\u001b[0m \u001b[1m0s\u001b[0m 1ms/step - loss: 0.1690 - output_1_accuracy: 0.9445 - output_1_loss: 0.0820 - output_2_loss: 0.0870 - output_2_mse: 0.0870\n",
            "Epoch 2/20\n",
            "\u001b[1m56/56\u001b[0m \u001b[32m━━━━━━━━━━━━━━━━━━━━\u001b[0m\u001b[37m\u001b[0m \u001b[1m0s\u001b[0m 1ms/step - loss: 0.1056 - output_1_accuracy: 0.9813 - output_1_loss: 0.0385 - output_2_loss: 0.0671 - output_2_mse: 0.0671\n",
            "Epoch 3/20\n",
            "\u001b[1m56/56\u001b[0m \u001b[32m━━━━━━━━━━━━━━━━━━━━\u001b[0m\u001b[37m\u001b[0m \u001b[1m0s\u001b[0m 2ms/step - loss: 0.1232 - output_1_accuracy: 0.9887 - output_1_loss: 0.0514 - output_2_loss: 0.0718 - output_2_mse: 0.0718\n",
            "Epoch 4/20\n",
            "\u001b[1m56/56\u001b[0m \u001b[32m━━━━━━━━━━━━━━━━━━━━\u001b[0m\u001b[37m\u001b[0m \u001b[1m0s\u001b[0m 2ms/step - loss: 0.1257 - output_1_accuracy: 0.9898 - output_1_loss: 0.0523 - output_2_loss: 0.0734 - output_2_mse: 0.0734\n",
            "Epoch 5/20\n",
            "\u001b[1m56/56\u001b[0m \u001b[32m━━━━━━━━━━━━━━━━━━━━\u001b[0m\u001b[37m\u001b[0m \u001b[1m0s\u001b[0m 2ms/step - loss: 0.1473 - output_1_accuracy: 0.9699 - output_1_loss: 0.0623 - output_2_loss: 0.0849 - output_2_mse: 0.0849\n",
            "Epoch 6/20\n",
            "\u001b[1m56/56\u001b[0m \u001b[32m━━━━━━━━━━━━━━━━━━━━\u001b[0m\u001b[37m\u001b[0m \u001b[1m0s\u001b[0m 3ms/step - loss: 0.1587 - output_1_accuracy: 0.9600 - output_1_loss: 0.0842 - output_2_loss: 0.0744 - output_2_mse: 0.0744\n",
            "Epoch 7/20\n",
            "\u001b[1m56/56\u001b[0m \u001b[32m━━━━━━━━━━━━━━━━━━━━\u001b[0m\u001b[37m\u001b[0m \u001b[1m0s\u001b[0m 3ms/step - loss: 0.1225 - output_1_accuracy: 0.9862 - output_1_loss: 0.0389 - output_2_loss: 0.0836 - output_2_mse: 0.0836\n",
            "Epoch 8/20\n",
            "\u001b[1m56/56\u001b[0m \u001b[32m━━━━━━━━━━━━━━━━━━━━\u001b[0m\u001b[37m\u001b[0m \u001b[1m0s\u001b[0m 3ms/step - loss: 0.1852 - output_1_accuracy: 0.9507 - output_1_loss: 0.1109 - output_2_loss: 0.0743 - output_2_mse: 0.0743\n",
            "Epoch 9/20\n",
            "\u001b[1m56/56\u001b[0m \u001b[32m━━━━━━━━━━━━━━━━━━━━\u001b[0m\u001b[37m\u001b[0m \u001b[1m0s\u001b[0m 3ms/step - loss: 0.1150 - output_1_accuracy: 0.9777 - output_1_loss: 0.0466 - output_2_loss: 0.0684 - output_2_mse: 0.0684\n",
            "Epoch 10/20\n",
            "\u001b[1m56/56\u001b[0m \u001b[32m━━━━━━━━━━━━━━━━━━━━\u001b[0m\u001b[37m\u001b[0m \u001b[1m0s\u001b[0m 2ms/step - loss: 0.1473 - output_1_accuracy: 0.9637 - output_1_loss: 0.0730 - output_2_loss: 0.0743 - output_2_mse: 0.0743\n",
            "Epoch 11/20\n",
            "\u001b[1m56/56\u001b[0m \u001b[32m━━━━━━━━━━━━━━━━━━━━\u001b[0m\u001b[37m\u001b[0m \u001b[1m0s\u001b[0m 2ms/step - loss: 0.1522 - output_1_accuracy: 0.9726 - output_1_loss: 0.0575 - output_2_loss: 0.0947 - output_2_mse: 0.0947\n",
            "Epoch 12/20\n",
            "\u001b[1m56/56\u001b[0m \u001b[32m━━━━━━━━━━━━━━━━━━━━\u001b[0m\u001b[37m\u001b[0m \u001b[1m0s\u001b[0m 2ms/step - loss: 0.1225 - output_1_accuracy: 0.9786 - output_1_loss: 0.0461 - output_2_loss: 0.0765 - output_2_mse: 0.0765\n",
            "Epoch 13/20\n",
            "\u001b[1m56/56\u001b[0m \u001b[32m━━━━━━━━━━━━━━━━━━━━\u001b[0m\u001b[37m\u001b[0m \u001b[1m0s\u001b[0m 2ms/step - loss: 0.1131 - output_1_accuracy: 0.9903 - output_1_loss: 0.0329 - output_2_loss: 0.0802 - output_2_mse: 0.0802\n",
            "Epoch 14/20\n",
            "\u001b[1m56/56\u001b[0m \u001b[32m━━━━━━━━━━━━━━━━━━━━\u001b[0m\u001b[37m\u001b[0m \u001b[1m0s\u001b[0m 2ms/step - loss: 0.1412 - output_1_accuracy: 0.9683 - output_1_loss: 0.0685 - output_2_loss: 0.0727 - output_2_mse: 0.0727\n",
            "Epoch 15/20\n",
            "\u001b[1m56/56\u001b[0m \u001b[32m━━━━━━━━━━━━━━━━━━━━\u001b[0m\u001b[37m\u001b[0m \u001b[1m0s\u001b[0m 3ms/step - loss: 0.1222 - output_1_accuracy: 0.9887 - output_1_loss: 0.0468 - output_2_loss: 0.0754 - output_2_mse: 0.0754\n",
            "Epoch 16/20\n",
            "\u001b[1m56/56\u001b[0m \u001b[32m━━━━━━━━━━━━━━━━━━━━\u001b[0m\u001b[37m\u001b[0m \u001b[1m0s\u001b[0m 3ms/step - loss: 0.1213 - output_1_accuracy: 0.9693 - output_1_loss: 0.0551 - output_2_loss: 0.0662 - output_2_mse: 0.0662\n",
            "Epoch 17/20\n",
            "\u001b[1m56/56\u001b[0m \u001b[32m━━━━━━━━━━━━━━━━━━━━\u001b[0m\u001b[37m\u001b[0m \u001b[1m0s\u001b[0m 3ms/step - loss: 0.1111 - output_1_accuracy: 0.9914 - output_1_loss: 0.0254 - output_2_loss: 0.0857 - output_2_mse: 0.0857\n",
            "Epoch 18/20\n",
            "\u001b[1m56/56\u001b[0m \u001b[32m━━━━━━━━━━━━━━━━━━━━\u001b[0m\u001b[37m\u001b[0m \u001b[1m0s\u001b[0m 2ms/step - loss: 0.1129 - output_1_accuracy: 0.9831 - output_1_loss: 0.0296 - output_2_loss: 0.0833 - output_2_mse: 0.0833\n",
            "Epoch 19/20\n",
            "\u001b[1m56/56\u001b[0m \u001b[32m━━━━━━━━━━━━━━━━━━━━\u001b[0m\u001b[37m\u001b[0m \u001b[1m0s\u001b[0m 2ms/step - loss: 0.1436 - output_1_accuracy: 0.9758 - output_1_loss: 0.0664 - output_2_loss: 0.0773 - output_2_mse: 0.0773\n",
            "Epoch 20/20\n",
            "\u001b[1m56/56\u001b[0m \u001b[32m━━━━━━━━━━━━━━━━━━━━\u001b[0m\u001b[37m\u001b[0m \u001b[1m0s\u001b[0m 3ms/step - loss: 0.1131 - output_1_accuracy: 0.9953 - output_1_loss: 0.0442 - output_2_loss: 0.0689 - output_2_mse: 0.0689\n"
          ]
        },
        {
          "output_type": "execute_result",
          "data": {
            "text/plain": [
              "<keras.src.callbacks.history.History at 0x7abb504a6bd0>"
            ]
          },
          "metadata": {},
          "execution_count": 48
        }
      ]
    },
    {
      "cell_type": "code",
      "source": [
        "results = model.evaluate(X_test,{'output_1':y_test, 'output_2':y_synthetic_test})"
      ],
      "metadata": {
        "colab": {
          "base_uri": "https://localhost:8080/"
        },
        "id": "iIGMA8IeHy1z",
        "outputId": "0ae56235-855f-47c4-f48f-375c6777da51"
      },
      "execution_count": 50,
      "outputs": [
        {
          "output_type": "stream",
          "name": "stdout",
          "text": [
            "\u001b[1m2/2\u001b[0m \u001b[32m━━━━━━━━━━━━━━━━━━━━\u001b[0m\u001b[37m\u001b[0m \u001b[1m0s\u001b[0m 10ms/step - loss: 0.1830 - output_1_accuracy: 1.0000 - output_1_loss: 0.0218 - output_2_loss: 0.1453 - output_2_mse: 0.1544\n"
          ]
        }
      ]
    },
    {
      "cell_type": "code",
      "source": [
        "results"
      ],
      "metadata": {
        "colab": {
          "base_uri": "https://localhost:8080/"
        },
        "id": "_3zQhW6mJYbM",
        "outputId": "9333c559-617a-429a-cb8e-adbea95e4690"
      },
      "execution_count": 51,
      "outputs": [
        {
          "output_type": "execute_result",
          "data": {
            "text/plain": [
              "[0.1793505996465683,\n",
              " 0.016889970749616623,\n",
              " 0.1385907530784607,\n",
              " 1.0,\n",
              " 0.15230034291744232]"
            ]
          },
          "metadata": {},
          "execution_count": 51
        }
      ]
    },
    {
      "cell_type": "code",
      "source": [
        "#Predicting for a new record\n",
        "new_input = np.array([[5.1, 3.5, 1.4, 0.2]])"
      ],
      "metadata": {
        "id": "GNZcpFfoLbr-"
      },
      "execution_count": 52,
      "outputs": []
    },
    {
      "cell_type": "code",
      "source": [
        "#Apply standard Scaling for new input\n",
        "new_input = sc.transform(new_input)"
      ],
      "metadata": {
        "id": "zugyjy5QLi8y"
      },
      "execution_count": null,
      "outputs": []
    },
    {
      "cell_type": "code",
      "source": [
        "#predict the result\n",
        "predictions = model.predict(new_input)\n",
        "print(f\"Predicted Class (from Softmax):{np.argmax(predictions[0])}\")\n",
        "print(f\"Predicted Regression Value (from Linear): {predictions[1]}\")"
      ],
      "metadata": {
        "colab": {
          "base_uri": "https://localhost:8080/"
        },
        "id": "hTDvbtu0LtQd",
        "outputId": "6174e4cd-97a2-4b1b-ebe7-cf12e93de1fc"
      },
      "execution_count": 58,
      "outputs": [
        {
          "output_type": "stream",
          "name": "stdout",
          "text": [
            "\u001b[1m1/1\u001b[0m \u001b[32m━━━━━━━━━━━━━━━━━━━━\u001b[0m\u001b[37m\u001b[0m \u001b[1m0s\u001b[0m 22ms/step\n",
            "Predicted Class (from Softmax):1\n",
            "Predicted Regression Value (from Linear): [[0.33679152]]\n"
          ]
        }
      ]
    }
  ]
}